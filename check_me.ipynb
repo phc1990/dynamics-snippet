{
 "cells": [
  {
   "attachments": {},
   "cell_type": "markdown",
   "metadata": {},
   "source": [
    "# Dynamic Snippet\n",
    "\n",
    "Trying to solve the following dynamic system:\n",
    "\n",
    "1. Particle with an initial velocity\n",
    "2. Affected by its weight (W) and drag (D)\n",
    "\n",
    "![problem diagram](diagram.png)"
   ]
  },
  {
   "attachments": {},
   "cell_type": "markdown",
   "metadata": {},
   "source": [
    "Create a `Dynamics` instance."
   ]
  },
  {
   "cell_type": "code",
   "execution_count": 1,
   "metadata": {},
   "outputs": [],
   "source": [
    "from app.dynamics import Dynamics\n",
    "\n",
    "dynamics: Dynamics = Dynamics()"
   ]
  },
  {
   "attachments": {},
   "cell_type": "markdown",
   "metadata": {},
   "source": [
    "Declare the coordinates that define our problem. These are just keys, they can be anything. But, since they might be reused, it might be better to declare them as constants."
   ]
  },
  {
   "cell_type": "code",
   "execution_count": 2,
   "metadata": {},
   "outputs": [],
   "source": [
    "X_KEY: str      = 'X'\n",
    "Y_KEY: str      = 'Y'\n",
    "X_DOT_KEY: str  = 'X_DOT'\n",
    "Y_DOT_KEY: str  = 'Y_DOT'\n",
    "MASS_KEY: str   = 'MASS'"
   ]
  },
  {
   "attachments": {},
   "cell_type": "markdown",
   "metadata": {},
   "source": [
    "Create our first `Contributor` to the dynamics sytem: the weight of the particle (gravity)."
   ]
  },
  {
   "cell_type": "code",
   "execution_count": 3,
   "metadata": {},
   "outputs": [],
   "source": [
    "from app.contributor import Contributor\n",
    "from app.contributors.gravity import UnidirectionalGravity\n",
    "\n",
    "gravity: Contributor = UnidirectionalGravity(\n",
    "    acceleration=-9.81,  # Negative acceleration since +Y is defined as 'UP'\n",
    "    z_key=Y_KEY,\n",
    "    z_dot_key=Y_DOT_KEY,\n",
    ")"
   ]
  },
  {
   "attachments": {},
   "cell_type": "markdown",
   "metadata": {},
   "source": [
    "Adding it to the dynamcis system will already start defining the state vector. This is done \"under the hood\" by the `Coordinates` class."
   ]
  },
  {
   "cell_type": "code",
   "execution_count": 4,
   "metadata": {},
   "outputs": [
    {
     "name": "stdout",
     "output_type": "stream",
     "text": [
      "Coor  =['Y', 'Y_DOT']\n"
     ]
    }
   ],
   "source": [
    "dynamics.add_contributor(gravity)\n",
    "\n",
    "print(f\"Coor  ={dynamics.coordinates._keys}\")"
   ]
  },
  {
   "attachments": {},
   "cell_type": "markdown",
   "metadata": {},
   "source": [
    "And the second `Contributor`, the drag: "
   ]
  },
  {
   "cell_type": "code",
   "execution_count": 5,
   "metadata": {},
   "outputs": [],
   "source": [
    "from app.contributors.drag import ConstantCdAndAreaDrag\n",
    "\n",
    "drag: Contributor = ConstantCdAndAreaDrag(\n",
    "    cd=2.2,\n",
    "    area=10.0,\n",
    "    x_key=X_KEY,\n",
    "    y_key=Y_KEY,\n",
    "    x_dot_key=X_DOT_KEY,\n",
    "    y_dot_key=Y_DOT_KEY,\n",
    "    mass_key=MASS_KEY,\n",
    ")"
   ]
  },
  {
   "attachments": {},
   "cell_type": "markdown",
   "metadata": {},
   "source": [
    "\n",
    "And again, the state vector would have increased (only with the non-overlapping coordinates):"
   ]
  },
  {
   "cell_type": "code",
   "execution_count": 6,
   "metadata": {},
   "outputs": [
    {
     "name": "stdout",
     "output_type": "stream",
     "text": [
      "Coor  =['Y', 'Y_DOT', 'X', 'X_DOT', 'MASS']\n"
     ]
    }
   ],
   "source": [
    "dynamics.add_contributor(drag)\n",
    "\n",
    "print(f\"Coor  ={dynamics.coordinates._keys}\")"
   ]
  },
  {
   "attachments": {},
   "cell_type": "markdown",
   "metadata": {},
   "source": [
    "Define our initial state vector:"
   ]
  },
  {
   "cell_type": "code",
   "execution_count": 7,
   "metadata": {},
   "outputs": [
    {
     "name": "stdout",
     "output_type": "stream",
     "text": [
      "Coor  =['Y', 'Y_DOT', 'X', 'X_DOT', 'MASS']\n",
      "x     =[100.0, 30.0, 0.0, -10.0, 5.0]\n",
      "x_dot =[0, 0, 0, 0, 0]\n"
     ]
    }
   ],
   "source": [
    "from app.coordinates import Coordinates\n",
    "\n",
    "coordinates: Coordinates = dynamics.coordinates\n",
    "x = [0]*coordinates.size()\n",
    "x_dot = [0]*coordinates.size()\n",
    "\n",
    "x[coordinates.get_index(X_KEY)] = 0.0\n",
    "x[coordinates.get_index(Y_KEY)] = 100.0\n",
    "x[coordinates.get_index(X_DOT_KEY)] = -10.0\n",
    "x[coordinates.get_index(Y_DOT_KEY)] = 30.0\n",
    "x[coordinates.get_index(MASS_KEY)] = 5.0\n",
    "\n",
    "print(f\"Coor  ={coordinates._keys}\")\n",
    "print(f\"x     ={x}\")\n",
    "print(f\"x_dot ={x_dot}\")"
   ]
  },
  {
   "attachments": {},
   "cell_type": "markdown",
   "metadata": {},
   "source": [
    "The function below mirrors OSTk `Dynamics` signature for comparison:\n",
    "\n",
    "```\n",
    "void SatelliteDynamics::DynamicalEquations(const Dynamics::StateVector& x, Dynamics::StateVector& dxdt, const double t)\n",
    "```\n",
    "\n",
    "This is essentially what is called during each integration step. Calling it below just as as an example:"
   ]
  },
  {
   "cell_type": "code",
   "execution_count": 8,
   "metadata": {},
   "outputs": [
    {
     "name": "stdout",
     "output_type": "stream",
     "text": [
      "Coor  =['Y', 'Y_DOT', 'X', 'X_DOT', 'MASS']\n",
      "x     =[100.0, 30.0, 0.0, -10.0, 5.0]\n",
      "x_dot =[0, 2555.9310834006747, 0, -855.2470278002249, 0]\n"
     ]
    }
   ],
   "source": [
    "dynamics.get_dynamics_equation(x=x, x_dot=x_dot)\n",
    "\n",
    "print(f\"Coor  ={coordinates._keys}\")\n",
    "print(f\"x     ={x}\")\n",
    "print(f\"x_dot ={x_dot}\")"
   ]
  }
 ],
 "metadata": {
  "kernelspec": {
   "display_name": "Python 3",
   "language": "python",
   "name": "python3"
  },
  "language_info": {
   "codemirror_mode": {
    "name": "ipython",
    "version": 3
   },
   "file_extension": ".py",
   "mimetype": "text/x-python",
   "name": "python",
   "nbconvert_exporter": "python",
   "pygments_lexer": "ipython3",
   "version": "3.9.6"
  },
  "orig_nbformat": 4
 },
 "nbformat": 4,
 "nbformat_minor": 2
}
